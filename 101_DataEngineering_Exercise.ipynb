{
 "cells": [
  {
   "cell_type": "markdown",
   "metadata": {},
   "source": [
    "# 101_DataEngineering_Exercise\n",
    "\n",
    "Recruitment Exercises `oreum_recruit_exercises`\n",
    "\n",
    "2022Q2\n",
    "\n",
    "## Exercise Details\n",
    "\n",
    "### Goals\n",
    "\n",
    "+ Test basic capability to manipulate and interrogate data using Python and SQL\n",
    "+ Designed to take approx 30-60 mins\n",
    "+ Opportunities for extension and non-sequential steps\n",
    "+ This Notebook contains questions only. See 102 for the version including worked examples.\n",
    "\n",
    "\n",
    "### Contents\n",
    "\n",
    "+ [1. Data Curation: Fetch, Flatten & Store Dataset](#1.-Data-Curation:-Fetch,-Flatten-&-Store-Dataset)\n",
    "\n",
    "+ [2. Basic EDA: Do we have the right data?](#2.-Basic-EDA:-Do-we-have-the-right-data?)\n",
    "\n",
    "+ [3. Basic Feature Engineering: Create useful features](#3.-Basic-Feature-Engineering:-Create-useful-features)\n",
    "\n",
    "+ [4. Analysis: Learn from the data](#4.-Analysis:-Learn-from-the-data)\n",
    "\n",
    "\n",
    "## Background on the Data\n",
    "\n",
    "See [100_DataEngineering_ExerciseGuide](100_DataEngineering_ExerciseGuide.ipynb)\n",
    "\n"
   ]
  },
  {
   "cell_type": "markdown",
   "metadata": {},
   "source": [
    "---\n",
    "\n",
    "---"
   ]
  },
  {
   "cell_type": "markdown",
   "metadata": {},
   "source": [
    "# 1. Data Curation: Fetch, Flatten & Store Dataset"
   ]
  },
  {
   "cell_type": "markdown",
   "metadata": {},
   "source": [
    "### Tasks\n",
    "    \n",
    "1. Download the [JSON file](https://think.cs.vt.edu/corgis/datasets/json/airlines/airlines.json) `https://think.cs.vt.edu/corgis/datasets/json/airlines/airlines.json`\n",
    "2. Parse the JSON to flat file format\n",
    "3. Rename columns: lowercase everything, and replace `'#'` with `'no'`, and `' '` (whitespace character) with `'_'`\n",
    "3. Store the table with name `raw` in a local SQLite database with name `airlines.sqlite`\n",
    "\n",
    "\n",
    "### Hints\n",
    "\n",
    "1. Use Python (this environment contains a baseline useful set of packages including `json`, `numpy`, `pandas`, `requests`, `sqlite`, and their various dependencies)\n",
    "2. You're free to use the internet! (e.g. [StackOverflow](https://stackoverflow.com))\n"
   ]
  },
  {
   "cell_type": "markdown",
   "metadata": {
    "tags": []
   },
   "source": [
    "## 1.1 Workspace"
   ]
  },
  {
   "cell_type": "code",
   "execution_count": null,
   "metadata": {},
   "outputs": [],
   "source": [
    "# code here, create as many new cells as you like"
   ]
  },
  {
   "cell_type": "markdown",
   "metadata": {},
   "source": [
    "---\n",
    "\n",
    "---"
   ]
  },
  {
   "cell_type": "markdown",
   "metadata": {},
   "source": [
    "# 2. Basic EDA: Do we have the right data?"
   ]
  },
  {
   "cell_type": "markdown",
   "metadata": {},
   "source": [
    "### Tasks\n",
    "\n",
    "Confirm dataset is fully present:\n",
    "\n",
    "1. Confirm you have `4408` total records \n",
    "2. Confirm you have `152` records for `airport_code == ATL`\n",
    "3. Confirm you have `29` unique `airport_codes`\n",
    "4. Confirm the min year is `2003` and the max year is `2016`\n",
    "    \n",
    "### Hints\n",
    "\n",
    "1. Use Python or SQL (you can write SQL directly in an IDE e.g [DB Browser for SQLite](https://sqlitebrowser.org))\n",
    "2. You're free to use the internet! (e.g. [StackOverflow](https://stackoverflow.com))\n"
   ]
  },
  {
   "cell_type": "markdown",
   "metadata": {
    "tags": []
   },
   "source": [
    "## 2.1 Workspace"
   ]
  },
  {
   "cell_type": "code",
   "execution_count": null,
   "metadata": {},
   "outputs": [],
   "source": [
    "# code here, create as many new cells as you like"
   ]
  },
  {
   "cell_type": "markdown",
   "metadata": {},
   "source": [
    "---\n",
    "\n",
    "---"
   ]
  },
  {
   "cell_type": "markdown",
   "metadata": {},
   "source": [
    "# 3. Basic Feature Engineering"
   ]
  },
  {
   "cell_type": "markdown",
   "metadata": {},
   "source": [
    "### Tasks\n",
    "    \n",
    "1. There's several datetime features (`time_label`, `time_month`, `time_month_name`, `time_year`) that are wasteful, so let's create a single new feature `survey_date` as a real datetime by parsing `time_label`\n",
    "2. Drop the wasteful features and create a new table\n",
    "3. Sort the table by `airport_code` and `survey_date` descending and create an index based on these two features\n",
    "4. Write this new table to the SQLite DB with name `prepared`\n",
    "\n",
    "\n",
    "### Hints\n",
    "\n",
    "1. Use Python or SQL (bearing in mind this is SQLite flavor ANSI SQL)\n",
    "2. You're free to use the internet! (e.g. [StackOverflow](https://stackoverflow.com))\n",
    "3. SQLite [doesn't actually have datetime datatypes](https://www.sqlitetutorial.net/sqlite-date/), so if you use SQLite here, create a text feature with the SQLite's default ISO-8701 format: \"YYYY-MM-HH\"\n"
   ]
  },
  {
   "cell_type": "markdown",
   "metadata": {},
   "source": [
    "## 3.1 Workspace"
   ]
  },
  {
   "cell_type": "code",
   "execution_count": null,
   "metadata": {},
   "outputs": [],
   "source": [
    "# code here, create as many new cells as you like"
   ]
  },
  {
   "cell_type": "markdown",
   "metadata": {},
   "source": [
    "---\n",
    "\n",
    "---"
   ]
  },
  {
   "cell_type": "markdown",
   "metadata": {},
   "source": [
    "# 4. Analysis: Learn from the data"
   ]
  },
  {
   "cell_type": "markdown",
   "metadata": {},
   "source": [
    "### Tasks\n",
    "    \n",
    "1. Find which 2 airports have more than 30000 total counts of delays due to weather (use `count_delays_weather`)\n",
    "2. Find the year with the highest proportion of flights ontime (you'll need `statistics_flights_on_time` and `statistics_flights_total`)\n",
    "3. Find, for each year, the airport with the highest proportion of flights ontime \n",
    "\n",
    "\n",
    "\n",
    "### Hints\n",
    "\n",
    "1. Use Python or SQL (bearing in mind this is SQLite flavor ANSI SQL)\n",
    "2. You're free to use the internet! (e.g. [StackOverflow](https://stackoverflow.com))\n",
    "3. Note that in the SQLite DB our numeric values are INTEGERS, so they must be CAST before float division, and that our `survey_date` needs to `strftime` to a year\n"
   ]
  },
  {
   "cell_type": "markdown",
   "metadata": {},
   "source": [
    "## 4.1 Workspace"
   ]
  },
  {
   "cell_type": "code",
   "execution_count": null,
   "metadata": {},
   "outputs": [],
   "source": [
    "# code here, create as many new cells as you like"
   ]
  },
  {
   "cell_type": "markdown",
   "metadata": {},
   "source": [
    "---\n",
    "\n",
    "---"
   ]
  },
  {
   "cell_type": "markdown",
   "metadata": {},
   "source": [
    "# Notes"
   ]
  },
  {
   "cell_type": "code",
   "execution_count": null,
   "metadata": {},
   "outputs": [],
   "source": [
    "%load_ext watermark\n",
    "%watermark -a \"jonathan.sedar@oreum.io\" -udtmv -iv"
   ]
  },
  {
   "cell_type": "markdown",
   "metadata": {},
   "source": [
    "---\n",
    "Oreum OÜ &copy; 2022"
   ]
  }
 ],
 "metadata": {
  "kernelspec": {
   "display_name": "Python 3.9.13 64-bit",
   "language": "python",
   "name": "python3"
  },
  "language_info": {
   "codemirror_mode": {
    "name": "ipython",
    "version": 3
   },
   "file_extension": ".py",
   "mimetype": "text/x-python",
   "name": "python",
   "nbconvert_exporter": "python",
   "pygments_lexer": "ipython3",
   "version": "3.9.13"
  },
  "pycharm": {
   "stem_cell": {
    "cell_type": "raw",
    "metadata": {
     "collapsed": false
    },
    "source": []
   }
  },
  "toc": {
   "base_numbering": 1,
   "nav_menu": {},
   "number_sections": true,
   "sideBar": true,
   "skip_h1_title": false,
   "title_cell": "Table of Contents",
   "title_sidebar": "Contents",
   "toc_cell": false,
   "toc_position": {},
   "toc_section_display": true,
   "toc_window_display": false
  },
  "vscode": {
   "interpreter": {
    "hash": "aee8b7b246df8f9039afb4144a1f6fd8d2ca17a180786b69acc140d282b71a49"
   }
  }
 },
 "nbformat": 4,
 "nbformat_minor": 4
}
