{
 "cells": [
  {
   "cell_type": "markdown",
   "metadata": {},
   "source": [
    "# 100_DataEngineering_ExerciseGuide\n",
    "\n",
    "Recruitment Exercises `oreum_recruit_exercises`\n",
    "\n",
    "2022Q2\n",
    "\n",
    "## Exercise Details\n",
    "\n",
    "### Goals\n",
    "\n",
    "+ Explain background and setup guide for this suite of exercises\n",
    "\n",
    "\n",
    "## Background on the Data\n",
    "\n",
    "\n",
    "1. We're going to use the [airlines dataset](https://corgis-edu.github.io/corgis/json/airlines/) from [CORGIS](https://corgis-edu.github.io/corgis/)\n",
    "2. This is a hierarchical dataset about flight takeoffs in the USA, including info about the count, duration, and type of delays per month, at every major airport, for every carrier for a timespan of several years.\n",
    "3. The fundamental unit (record) within the hierarchical data is an airport, and has a JSON structure like:\n",
    "\n",
    "```json\n",
    "\n",
    "    \"Airport\": {\n",
    "      \"Code\": \"ATL\",\n",
    "      \"Name\": \"Atlanta, GA: Hartsfield-Jackson Atlanta International\"\n",
    "    },\n",
    "    \"Time\": {\n",
    "      \"Label\": \"2003/06\",\n",
    "      \"Month\": 6,\n",
    "      \"Month Name\": \"June\",\n",
    "      \"Year\": 2003\n",
    "    },\n",
    "    \"Statistics\": {\n",
    "      \"# of Delays\": {\n",
    "        \"Carrier\": 1009,\n",
    "        \"Late Aircraft\": 1275,\n",
    "        \"National Aviation System\": 3217,\n",
    "        \"Security\": 17,\n",
    "        \"Weather\": 328\n",
    "      },\n",
    "      \"Carriers\": {\n",
    "        \"Names\": \"American Airlines Inc.,JetBlue Airways,Continental Air Lines Inc.,Delta Air Lines Inc.,Atlantic Southeast Airlines,AirTran Airways Corporation,America West Airlines Inc.,Northwest Airlines Inc.,ExpressJet Airlines Inc.,United Air Lines Inc.,US Airways Inc.\",\n",
    "        \"Total\": 11\n",
    "      },\n",
    "      \"Flights\": {\n",
    "        \"Cancelled\": 216,\n",
    "        \"Delayed\": 5843,\n",
    "        \"Diverted\": 27,\n",
    "        \"On Time\": 23974,\n",
    "        \"Total\": 30060\n",
    "      },\n",
    "      \"Minutes Delayed\": {\n",
    "        \"Carrier\": 61606,\n",
    "        \"Late Aircraft\": 68335,\n",
    "        \"National Aviation System\": 118831,\n",
    "        \"Security\": 518,\n",
    "        \"Total\": 268764,\n",
    "        \"Weather\": 19474\n",
    "      }\n",
    "    }\n",
    "```"
   ]
  },
  {
   "cell_type": "markdown",
   "metadata": {},
   "source": [
    "## Notes on using SQLite in VSCode Codespaces"
   ]
  },
  {
   "cell_type": "markdown",
   "metadata": {},
   "source": [
    "**You can write SQL directly in this VSCode Codespaces IDE**\n",
    "\n",
    "### To open:\n",
    "\n",
    "1. Open the VSCode Command Palette On Windows (Ctrl-Shift-P), On Mac (⇧⌘P)\n",
    "\n",
    "    <img src=\"static/img/100/vscode_sqlite_000_open.png\" width=\"400\"/>\n",
    "\n",
    "2. Type (and it will autocomplete) then select `SQLite: Open Database`\n",
    "\n",
    "    <img src=\"static/img/100/vscode_sqlite_001_choose_db.png\" width=\"400\"/>\n",
    "\n",
    "3. Select the local project database `data/airlines.sql`\n",
    "\n",
    "    <img src=\"static/img/100/vscode_sqlite_002_overview_db.png\" width=\"200\"/>\n",
    "\n",
    "4. The SQLITE EXPLORER subwindow opens at bottom left\n",
    "\n",
    "    <img src=\"static/img/100/vscode_sqlite_003_view_table.png\" width=\"400\"/>\n",
    "\n",
    "5. Click the right-arrow to open the results of `select *` in a new window\n",
    "\n",
    "    <img src=\"static/img/100/vscode_sqlite_004_new_query.png\" width=\"200\"/>\n",
    "\n",
    "6. Right-click on the table name to open a new query window\n",
    "\n",
    "    <img src=\"static/img/100/vscode_sqlite_005_query_window.png\" width=\"400\"/>\n",
    "\n",
    "\n",
    "### To execute statements:\n",
    "\n",
    "1. Right click the statement (don't forget semi-colons) and select either \n",
    "  \"Run Query\" (to run all statements) or \"Run Selected Query\"\n",
    "\n",
    "<img src=\"static/img/100/vscode_sqlite_006_runquery.png\" width=\"200\"/>"
   ]
  },
  {
   "cell_type": "markdown",
   "metadata": {},
   "source": [
    "---\n",
    "\n",
    "---"
   ]
  },
  {
   "cell_type": "markdown",
   "metadata": {},
   "source": [
    "# Notes"
   ]
  },
  {
   "cell_type": "code",
   "execution_count": 4,
   "metadata": {},
   "outputs": [
    {
     "name": "stdout",
     "output_type": "stream",
     "text": [
      "The watermark extension is already loaded. To reload it, use:\n",
      "  %reload_ext watermark\n",
      "Author: jonathan.sedar@oreum.io\n",
      "\n",
      "Last updated: 2022-06-15 12:04:19\n",
      "\n",
      "Python implementation: CPython\n",
      "Python version       : 3.9.12\n",
      "IPython version      : 8.3.0\n",
      "\n",
      "Compiler    : Clang 12.0.0 \n",
      "OS          : Darwin\n",
      "Release     : 21.5.0\n",
      "Machine     : x86_64\n",
      "Processor   : i386\n",
      "CPU cores   : 8\n",
      "Architecture: 64bit\n",
      "\n",
      "sys : 3.9.12 (main, Jun  1 2022, 06:36:29) \n",
      "[Clang 12.0.0 ]\n",
      "json: 2.0.9\n",
      "\n"
     ]
    }
   ],
   "source": [
    "%load_ext watermark\n",
    "%watermark -a \"jonathan.sedar@oreum.io\" -udtmv -iv"
   ]
  },
  {
   "cell_type": "markdown",
   "metadata": {},
   "source": [
    "---\n",
    "Oreum OÜ &copy; 2022"
   ]
  }
 ],
 "metadata": {
  "kernelspec": {
   "display_name": "Python 3.9.12 ('oreum_recruit')",
   "language": "python",
   "name": "python3"
  },
  "language_info": {
   "codemirror_mode": {
    "name": "ipython",
    "version": 3
   },
   "file_extension": ".py",
   "mimetype": "text/x-python",
   "name": "python",
   "nbconvert_exporter": "python",
   "pygments_lexer": "ipython3",
   "version": "3.9.12"
  },
  "pycharm": {
   "stem_cell": {
    "cell_type": "raw",
    "metadata": {
     "collapsed": false
    },
    "source": []
   }
  },
  "toc": {
   "base_numbering": 1,
   "nav_menu": {},
   "number_sections": true,
   "sideBar": true,
   "skip_h1_title": false,
   "title_cell": "Table of Contents",
   "title_sidebar": "Contents",
   "toc_cell": false,
   "toc_position": {},
   "toc_section_display": true,
   "toc_window_display": false
  },
  "vscode": {
   "interpreter": {
    "hash": "fa9de0766857f3b09a20d8ab1c3538581d0840a325fd0e29c5fc99c1949ce3b5"
   }
  }
 },
 "nbformat": 4,
 "nbformat_minor": 4
}
